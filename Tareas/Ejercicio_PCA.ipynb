{
 "cells": [
  {
   "cell_type": "markdown",
   "metadata": {},
   "source": [
    "# Kernel Density Estimation\n",
    "\n",
    "$$\n",
    "    p(x) = \\frac{K}{NV} = \\frac{1}{N}\\sum_{n=1}^N \\frac{k({\\bf x}, {\\bf x}_n)}{V}\n",
    "$$"
   ]
  },
  {
   "cell_type": "markdown",
   "metadata": {},
   "source": [
    "<h2 style=\"color:crimson\">Ejercicio</h2>\n",
    "\n",
    "**Entrenando un modelo con PCA**  \n",
    "Considerando  `xtrain`, `ytrain` definido en las céldas de arriba, crea dos modelos: \n",
    "1. Un pipeline considerando PCA con `n_components=0.7` seguido de un modelo `KNeighborsClassifier` con `n_neighbors=5`\n",
    "2. `KNeighborsClassifier` con `n_neighbors=5`\n",
    "\n",
    "Realiza un *cross validation* con `n_components=3`.\n",
    "* ¿Qué resultados arroja cada modelo?\n",
    "* ¿que ventajas tiene cada modelo?\n",
    "* ¿Cuánto tarda en correr cada *cross-validation*?"
   ]
  },
  {
   "cell_type": "code",
   "execution_count": 1,
   "metadata": {},
   "outputs": [
    {
     "name": "stderr",
     "output_type": "stream",
     "text": [
      "e:\\Users\\fgarciaro\\AppData\\Local\\Continuum\\anaconda3\\lib\\site-packages\\tensorflow\\python\\framework\\dtypes.py:516: FutureWarning: Passing (type, 1) or '1type' as a synonym of type is deprecated; in a future version of numpy, it will be understood as (type, (1,)) / '(1,)type'.\n",
      "  _np_qint8 = np.dtype([(\"qint8\", np.int8, 1)])\n",
      "e:\\Users\\fgarciaro\\AppData\\Local\\Continuum\\anaconda3\\lib\\site-packages\\tensorflow\\python\\framework\\dtypes.py:517: FutureWarning: Passing (type, 1) or '1type' as a synonym of type is deprecated; in a future version of numpy, it will be understood as (type, (1,)) / '(1,)type'.\n",
      "  _np_quint8 = np.dtype([(\"quint8\", np.uint8, 1)])\n",
      "e:\\Users\\fgarciaro\\AppData\\Local\\Continuum\\anaconda3\\lib\\site-packages\\tensorflow\\python\\framework\\dtypes.py:518: FutureWarning: Passing (type, 1) or '1type' as a synonym of type is deprecated; in a future version of numpy, it will be understood as (type, (1,)) / '(1,)type'.\n",
      "  _np_qint16 = np.dtype([(\"qint16\", np.int16, 1)])\n",
      "e:\\Users\\fgarciaro\\AppData\\Local\\Continuum\\anaconda3\\lib\\site-packages\\tensorflow\\python\\framework\\dtypes.py:519: FutureWarning: Passing (type, 1) or '1type' as a synonym of type is deprecated; in a future version of numpy, it will be understood as (type, (1,)) / '(1,)type'.\n",
      "  _np_quint16 = np.dtype([(\"quint16\", np.uint16, 1)])\n",
      "e:\\Users\\fgarciaro\\AppData\\Local\\Continuum\\anaconda3\\lib\\site-packages\\tensorflow\\python\\framework\\dtypes.py:520: FutureWarning: Passing (type, 1) or '1type' as a synonym of type is deprecated; in a future version of numpy, it will be understood as (type, (1,)) / '(1,)type'.\n",
      "  _np_qint32 = np.dtype([(\"qint32\", np.int32, 1)])\n",
      "e:\\Users\\fgarciaro\\AppData\\Local\\Continuum\\anaconda3\\lib\\site-packages\\tensorflow\\python\\framework\\dtypes.py:525: FutureWarning: Passing (type, 1) or '1type' as a synonym of type is deprecated; in a future version of numpy, it will be understood as (type, (1,)) / '(1,)type'.\n",
      "  np_resource = np.dtype([(\"resource\", np.ubyte, 1)])\n",
      "e:\\Users\\fgarciaro\\AppData\\Local\\Continuum\\anaconda3\\lib\\site-packages\\tensorboard\\compat\\tensorflow_stub\\dtypes.py:541: FutureWarning: Passing (type, 1) or '1type' as a synonym of type is deprecated; in a future version of numpy, it will be understood as (type, (1,)) / '(1,)type'.\n",
      "  _np_qint8 = np.dtype([(\"qint8\", np.int8, 1)])\n",
      "e:\\Users\\fgarciaro\\AppData\\Local\\Continuum\\anaconda3\\lib\\site-packages\\tensorboard\\compat\\tensorflow_stub\\dtypes.py:542: FutureWarning: Passing (type, 1) or '1type' as a synonym of type is deprecated; in a future version of numpy, it will be understood as (type, (1,)) / '(1,)type'.\n",
      "  _np_quint8 = np.dtype([(\"quint8\", np.uint8, 1)])\n",
      "e:\\Users\\fgarciaro\\AppData\\Local\\Continuum\\anaconda3\\lib\\site-packages\\tensorboard\\compat\\tensorflow_stub\\dtypes.py:543: FutureWarning: Passing (type, 1) or '1type' as a synonym of type is deprecated; in a future version of numpy, it will be understood as (type, (1,)) / '(1,)type'.\n",
      "  _np_qint16 = np.dtype([(\"qint16\", np.int16, 1)])\n",
      "e:\\Users\\fgarciaro\\AppData\\Local\\Continuum\\anaconda3\\lib\\site-packages\\tensorboard\\compat\\tensorflow_stub\\dtypes.py:544: FutureWarning: Passing (type, 1) or '1type' as a synonym of type is deprecated; in a future version of numpy, it will be understood as (type, (1,)) / '(1,)type'.\n",
      "  _np_quint16 = np.dtype([(\"quint16\", np.uint16, 1)])\n",
      "e:\\Users\\fgarciaro\\AppData\\Local\\Continuum\\anaconda3\\lib\\site-packages\\tensorboard\\compat\\tensorflow_stub\\dtypes.py:545: FutureWarning: Passing (type, 1) or '1type' as a synonym of type is deprecated; in a future version of numpy, it will be understood as (type, (1,)) / '(1,)type'.\n",
      "  _np_qint32 = np.dtype([(\"qint32\", np.int32, 1)])\n",
      "e:\\Users\\fgarciaro\\AppData\\Local\\Continuum\\anaconda3\\lib\\site-packages\\tensorboard\\compat\\tensorflow_stub\\dtypes.py:550: FutureWarning: Passing (type, 1) or '1type' as a synonym of type is deprecated; in a future version of numpy, it will be understood as (type, (1,)) / '(1,)type'.\n",
      "  np_resource = np.dtype([(\"resource\", np.ubyte, 1)])\n"
     ]
    }
   ],
   "source": [
    "# Biblioteca necesarias para los ejercicios\n",
    "from sklearn.decomposition import PCA\n",
    "from sklearn.neighbors import KNeighborsClassifier\n",
    "from sklearn.pipeline import Pipeline\n",
    "from numpy.linalg import svd\n",
    "from tensorflow.keras import datasets\n",
    "from sklearn.model_selection import cross_validate, train_test_split"
   ]
  },
  {
   "cell_type": "code",
   "execution_count": 2,
   "metadata": {},
   "outputs": [],
   "source": [
    "train, test = datasets.mnist.load_data()\n",
    "xtrain, ytrain = train\n",
    "N, M1, M2 = xtrain.shape\n",
    "\n",
    "# 1.\n",
    "modelo1 = Pipeline([\n",
    "    (\"PCA\", PCA(n_components=0.7)),\n",
    "    (\"K-N\", KNeighborsClassifier(n_neighbors=5))\n",
    "])\n",
    "\n",
    "modelo2 = Pipeline([\n",
    "    (\"K-N\", KNeighborsClassifier(n_neighbors=5))\n",
    "])\n"
   ]
  },
  {
   "cell_type": "code",
   "execution_count": 3,
   "metadata": {},
   "outputs": [],
   "source": [
    "X = xtrain.reshape(N, -1)\n",
    "y = ytrain"
   ]
  },
  {
   "cell_type": "code",
   "execution_count": 4,
   "metadata": {},
   "outputs": [
    {
     "data": {
      "text/plain": [
       "Pipeline(memory=None,\n",
       "         steps=[('K-N',\n",
       "                 KNeighborsClassifier(algorithm='auto', leaf_size=30,\n",
       "                                      metric='minkowski', metric_params=None,\n",
       "                                      n_jobs=None, n_neighbors=5, p=2,\n",
       "                                      weights='uniform'))],\n",
       "         verbose=False)"
      ]
     },
     "execution_count": 4,
     "metadata": {},
     "output_type": "execute_result"
    }
   ],
   "source": [
    "# Entrenamiento de los modelos\n",
    "modelo1.fit(X, y)\n",
    "modelo2.fit(X, y)"
   ]
  },
  {
   "cell_type": "markdown",
   "metadata": {},
   "source": [
    "Validación de los modelos con Cross-Validation"
   ]
  },
  {
   "cell_type": "code",
   "execution_count": 6,
   "metadata": {},
   "outputs": [
    {
     "name": "stdout",
     "output_type": "stream",
     "text": [
      "Wall time: 3min 27s\n"
     ]
    }
   ],
   "source": [
    "%%time\n",
    "scores1 = cross_validate(modelo1, X, y, cv=3, return_train_score=True)"
   ]
  },
  {
   "cell_type": "code",
   "execution_count": 7,
   "metadata": {
    "scrolled": true
   },
   "outputs": [
    {
     "data": {
      "text/plain": [
       "{'fit_time': array([3.66017389, 3.41489339, 3.0508554 ]),\n",
       " 'score_time': array([26.73332143, 27.85849023, 18.90240526]),\n",
       " 'test_score': array([0.9727, 0.9707, 0.9701]),\n",
       " 'train_score': array([0.982325, 0.98215 , 0.9823  ])}"
      ]
     },
     "execution_count": 7,
     "metadata": {},
     "output_type": "execute_result"
    }
   ],
   "source": [
    "scores1"
   ]
  },
  {
   "cell_type": "code",
   "execution_count": null,
   "metadata": {},
   "outputs": [],
   "source": [
    "%%time\n",
    "scores2 = cross_validate(modelo2, X, y, cv=3, return_train_score=True)"
   ]
  },
  {
   "cell_type": "markdown",
   "metadata": {},
   "source": [
    "Tiempo de ejecución excedío más de dos horas."
   ]
  },
  {
   "cell_type": "code",
   "execution_count": 7,
   "metadata": {
    "scrolled": false
   },
   "outputs": [
    {
     "data": {
      "text/plain": [
       "{'fit_time': array([3.66017389, 3.41489339, 3.0508554 ]),\n",
       " 'score_time': array([26.73332143, 27.85849023, 18.90240526]),\n",
       " 'test_score': array([0.9727, 0.9707, 0.9701]),\n",
       " 'train_score': array([0.982325, 0.98215 , 0.9823  ])}"
      ]
     },
     "execution_count": 7,
     "metadata": {},
     "output_type": "execute_result"
    }
   ],
   "source": [
    "scores2"
   ]
  },
  {
   "cell_type": "markdown",
   "metadata": {},
   "source": [
    "La clara ventaja de usar PCA es la evidente reducción de del conjunto de atributos del los datos con el que se trabaja, manteniendo la mayor cantidad de información (varianza) dentro del nuevo conjunto reducido de datos.\n",
    "\n",
    "Lo anterior ayuda en primera instancia a minimizar el tiempo de entrenamiento con el conjunto de datos reducido y a minimizar el costo computacional del modelo."
   ]
  },
  {
   "cell_type": "code",
   "execution_count": null,
   "metadata": {},
   "outputs": [],
   "source": []
  }
 ],
 "metadata": {
  "kernelspec": {
   "display_name": "Python 3",
   "language": "python",
   "name": "python3"
  },
  "language_info": {
   "codemirror_mode": {
    "name": "ipython",
    "version": 3
   },
   "file_extension": ".py",
   "mimetype": "text/x-python",
   "name": "python",
   "nbconvert_exporter": "python",
   "pygments_lexer": "ipython3",
   "version": "3.7.6"
  },
  "widgets": {
   "application/vnd.jupyter.widget-state+json": {
    "state": {
     "0092b720407343109e270aa8f968fa67": {
      "model_module": "@jupyter-widgets/controls",
      "model_module_version": "1.5.0",
      "model_name": "DescriptionStyleModel",
      "state": {
       "description_width": ""
      }
     },
     "00e75e1b510b4ddfa5211cd31f20f1a0": {
      "model_module": "@jupyter-widgets/output",
      "model_module_version": "1.0.0",
      "model_name": "OutputModel",
      "state": {
       "layout": "IPY_MODEL_48c5cebd7417444d8b48e62978468edb",
       "outputs": [
        {
         "data": {
          "image/png": "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\n",
          "text/plain": "<Figure size 432x288 with 1 Axes>"
         },
         "metadata": {
          "image/png": {
           "height": 231,
           "width": 231
          },
          "needs_background": "light"
         },
         "output_type": "display_data"
        }
       ]
      }
     },
     "1577232d04784d4ab9905bbdebb4a221": {
      "model_module": "@jupyter-widgets/base",
      "model_module_version": "1.2.0",
      "model_name": "LayoutModel",
      "state": {}
     },
     "161aea52485c46a594251272e99264fb": {
      "model_module": "@jupyter-widgets/controls",
      "model_module_version": "1.5.0",
      "model_name": "IntSliderModel",
      "state": {
       "description": "n_components",
       "layout": "IPY_MODEL_b0d1a2a4aa924d1890af894a747e9319",
       "max": 200,
       "step": 10,
       "style": "IPY_MODEL_d79adbc06c844f9e8a2375f32f50b332",
       "value": 20
      }
     },
     "31d3d35c80304edba253c0e4199f14ff": {
      "model_module": "@jupyter-widgets/base",
      "model_module_version": "1.2.0",
      "model_name": "LayoutModel",
      "state": {}
     },
     "3325b8e69ee144c986658d3235c5d9ee": {
      "model_module": "@jupyter-widgets/base",
      "model_module_version": "1.2.0",
      "model_name": "LayoutModel",
      "state": {}
     },
     "337ca1c15c5c431ebc61a304ed99a176": {
      "model_module": "@jupyter-widgets/output",
      "model_module_version": "1.0.0",
      "model_name": "OutputModel",
      "state": {
       "layout": "IPY_MODEL_f5b4893ed8ce4f2f874cd5b814704fe0",
       "outputs": [
        {
         "data": {
          "image/png": "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\n",
          "text/plain": "<Figure size 432x288 with 1 Axes>"
         },
         "metadata": {
          "image/png": {
           "height": 248,
           "width": 394
          },
          "needs_background": "light"
         },
         "output_type": "display_data"
        }
       ]
      }
     },
     "3585c6765de64857bf9b8aa6b38d1b88": {
      "model_module": "@jupyter-widgets/controls",
      "model_module_version": "1.5.0",
      "model_name": "VBoxModel",
      "state": {
       "_dom_classes": [
        "widget-interact"
       ],
       "children": [
        "IPY_MODEL_beceb5dc78a94d55976374e619b0d70a",
        "IPY_MODEL_00e75e1b510b4ddfa5211cd31f20f1a0"
       ],
       "layout": "IPY_MODEL_5e199eea4cc0472c86021bd4f5395bf9"
      }
     },
     "48c5cebd7417444d8b48e62978468edb": {
      "model_module": "@jupyter-widgets/base",
      "model_module_version": "1.2.0",
      "model_name": "LayoutModel",
      "state": {}
     },
     "5e199eea4cc0472c86021bd4f5395bf9": {
      "model_module": "@jupyter-widgets/base",
      "model_module_version": "1.2.0",
      "model_name": "LayoutModel",
      "state": {}
     },
     "71a8638e158f4c58a22eff04bc606f51": {
      "model_module": "@jupyter-widgets/controls",
      "model_module_version": "1.5.0",
      "model_name": "VBoxModel",
      "state": {
       "_dom_classes": [
        "widget-interact"
       ],
       "children": [
        "IPY_MODEL_161aea52485c46a594251272e99264fb",
        "IPY_MODEL_786ff3fe1d264d82a7e2d6ea4faa506c"
       ],
       "layout": "IPY_MODEL_31d3d35c80304edba253c0e4199f14ff"
      }
     },
     "73591cd33c5240f1ad0149092ff58887": {
      "model_module": "@jupyter-widgets/controls",
      "model_module_version": "1.5.0",
      "model_name": "VBoxModel",
      "state": {
       "_dom_classes": [
        "widget-interact"
       ],
       "children": [
        "IPY_MODEL_d3ac7e48195c43adad72a5226714a605",
        "IPY_MODEL_e0d24bf4fd86454db597fa1934296cff",
        "IPY_MODEL_337ca1c15c5c431ebc61a304ed99a176"
       ],
       "layout": "IPY_MODEL_b09619a1bf604ad4b37e89817e45f41a"
      }
     },
     "761012d8a7ce402eacf5a8f1b6832cb6": {
      "model_module": "@jupyter-widgets/base",
      "model_module_version": "1.2.0",
      "model_name": "LayoutModel",
      "state": {}
     },
     "786ff3fe1d264d82a7e2d6ea4faa506c": {
      "model_module": "@jupyter-widgets/output",
      "model_module_version": "1.0.0",
      "model_name": "OutputModel",
      "state": {
       "layout": "IPY_MODEL_1577232d04784d4ab9905bbdebb4a221",
       "outputs": [
        {
         "data": {
          "image/png": "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\n",
          "text/plain": "<Figure size 432x288 with 1 Axes>"
         },
         "metadata": {
          "image/png": {
           "height": 231,
           "width": 231
          },
          "needs_background": "light"
         },
         "output_type": "display_data"
        }
       ]
      }
     },
     "795ccce2843f4af987b7697e41c41699": {
      "model_module": "@jupyter-widgets/controls",
      "model_module_version": "1.5.0",
      "model_name": "FloatSliderModel",
      "state": {
       "description": "h",
       "layout": "IPY_MODEL_a804c1874f44411d81e2bfa29eb26b65",
       "max": 20,
       "step": 0.5,
       "style": "IPY_MODEL_ee205125813d4a9eb59999d19edbcf35",
       "value": 10
      }
     },
     "8a55aa9d40534f91b449c420200b12dc": {
      "model_module": "@jupyter-widgets/controls",
      "model_module_version": "1.5.0",
      "model_name": "DropdownModel",
      "state": {
       "_options_labels": [
        "unit",
        "gaussian"
       ],
       "description": "kernel",
       "index": 1,
       "layout": "IPY_MODEL_f6c17c67bcb54992a209ded940d8d328",
       "style": "IPY_MODEL_0092b720407343109e270aa8f968fa67"
      }
     },
     "9a3b04a917364c5c8a55cf21c8415f04": {
      "model_module": "@jupyter-widgets/controls",
      "model_module_version": "1.5.0",
      "model_name": "SliderStyleModel",
      "state": {
       "description_width": ""
      }
     },
     "a804c1874f44411d81e2bfa29eb26b65": {
      "model_module": "@jupyter-widgets/base",
      "model_module_version": "1.2.0",
      "model_name": "LayoutModel",
      "state": {}
     },
     "b09619a1bf604ad4b37e89817e45f41a": {
      "model_module": "@jupyter-widgets/base",
      "model_module_version": "1.2.0",
      "model_name": "LayoutModel",
      "state": {}
     },
     "b0d1a2a4aa924d1890af894a747e9319": {
      "model_module": "@jupyter-widgets/base",
      "model_module_version": "1.2.0",
      "model_name": "LayoutModel",
      "state": {}
     },
     "b4339b925a914846bff9e301dfdbe3c4": {
      "model_module": "@jupyter-widgets/output",
      "model_module_version": "1.0.0",
      "model_name": "OutputModel",
      "state": {
       "layout": "IPY_MODEL_e7256f929ab54802923759f133c0e0fa",
       "outputs": [
        {
         "data": {
          "image/png": "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\n",
          "text/plain": "<Figure size 432x288 with 1 Axes>"
         },
         "metadata": {
          "image/png": {
           "height": 248,
           "width": 394
          },
          "needs_background": "light"
         },
         "output_type": "display_data"
        }
       ]
      }
     },
     "beceb5dc78a94d55976374e619b0d70a": {
      "model_module": "@jupyter-widgets/controls",
      "model_module_version": "1.5.0",
      "model_name": "IntSliderModel",
      "state": {
       "description": "n_components",
       "layout": "IPY_MODEL_3325b8e69ee144c986658d3235c5d9ee",
       "max": 200,
       "step": 10,
       "style": "IPY_MODEL_e34fa6e530a844f9a3e6277b84f6a01a",
       "value": 40
      }
     },
     "c90a16cc3f85470e9a4c9f7e5895eaf1": {
      "model_module": "@jupyter-widgets/controls",
      "model_module_version": "1.5.0",
      "model_name": "DescriptionStyleModel",
      "state": {
       "description_width": ""
      }
     },
     "d1687aec9aa045df826622fad16c11ce": {
      "model_module": "@jupyter-widgets/base",
      "model_module_version": "1.2.0",
      "model_name": "LayoutModel",
      "state": {}
     },
     "d2a28aef5aaa4ccb9ed6a81ab2c4f897": {
      "model_module": "@jupyter-widgets/controls",
      "model_module_version": "1.5.0",
      "model_name": "VBoxModel",
      "state": {
       "_dom_classes": [
        "widget-interact"
       ],
       "children": [
        "IPY_MODEL_795ccce2843f4af987b7697e41c41699",
        "IPY_MODEL_8a55aa9d40534f91b449c420200b12dc",
        "IPY_MODEL_b4339b925a914846bff9e301dfdbe3c4"
       ],
       "layout": "IPY_MODEL_761012d8a7ce402eacf5a8f1b6832cb6"
      }
     },
     "d3ac7e48195c43adad72a5226714a605": {
      "model_module": "@jupyter-widgets/controls",
      "model_module_version": "1.5.0",
      "model_name": "FloatSliderModel",
      "state": {
       "description": "h",
       "layout": "IPY_MODEL_d1687aec9aa045df826622fad16c11ce",
       "max": 20,
       "step": 0.5,
       "style": "IPY_MODEL_9a3b04a917364c5c8a55cf21c8415f04",
       "value": 10
      }
     },
     "d79adbc06c844f9e8a2375f32f50b332": {
      "model_module": "@jupyter-widgets/controls",
      "model_module_version": "1.5.0",
      "model_name": "SliderStyleModel",
      "state": {
       "description_width": ""
      }
     },
     "e0d24bf4fd86454db597fa1934296cff": {
      "model_module": "@jupyter-widgets/controls",
      "model_module_version": "1.5.0",
      "model_name": "DropdownModel",
      "state": {
       "_options_labels": [
        "unit",
        "gaussian"
       ],
       "description": "kernel",
       "index": 0,
       "layout": "IPY_MODEL_fe5ce92360dd4dc4a91cb235c733d3ed",
       "style": "IPY_MODEL_c90a16cc3f85470e9a4c9f7e5895eaf1"
      }
     },
     "e34fa6e530a844f9a3e6277b84f6a01a": {
      "model_module": "@jupyter-widgets/controls",
      "model_module_version": "1.5.0",
      "model_name": "SliderStyleModel",
      "state": {
       "description_width": ""
      }
     },
     "e7256f929ab54802923759f133c0e0fa": {
      "model_module": "@jupyter-widgets/base",
      "model_module_version": "1.2.0",
      "model_name": "LayoutModel",
      "state": {}
     },
     "ee205125813d4a9eb59999d19edbcf35": {
      "model_module": "@jupyter-widgets/controls",
      "model_module_version": "1.5.0",
      "model_name": "SliderStyleModel",
      "state": {
       "description_width": ""
      }
     },
     "f5b4893ed8ce4f2f874cd5b814704fe0": {
      "model_module": "@jupyter-widgets/base",
      "model_module_version": "1.2.0",
      "model_name": "LayoutModel",
      "state": {}
     },
     "f6c17c67bcb54992a209ded940d8d328": {
      "model_module": "@jupyter-widgets/base",
      "model_module_version": "1.2.0",
      "model_name": "LayoutModel",
      "state": {}
     },
     "fe5ce92360dd4dc4a91cb235c733d3ed": {
      "model_module": "@jupyter-widgets/base",
      "model_module_version": "1.2.0",
      "model_name": "LayoutModel",
      "state": {}
     }
    },
    "version_major": 2,
    "version_minor": 0
   }
  }
 },
 "nbformat": 4,
 "nbformat_minor": 4
}
